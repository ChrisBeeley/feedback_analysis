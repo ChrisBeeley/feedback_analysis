{
 "cells": [
  {
   "cell_type": "markdown",
   "metadata": {},
   "source": [
    "# Data and package loads"
   ]
  },
  {
   "cell_type": "code",
   "execution_count": 1,
   "metadata": {},
   "outputs": [
    {
     "data": {
      "text/plain": [
       "'\\n# Install a pip package in the current Jupyter kernel\\nimport sys\\n!{sys.executable} -m pip install \"tensorflow>=1.7\"\\n!{sys.executable} -m pip install tensorflow-hub\\n!{sys.executable} -m pip install seaborn\\n'"
      ]
     },
     "execution_count": 1,
     "metadata": {},
     "output_type": "execute_result"
    }
   ],
   "source": [
    "\"\"\"\n",
    "# Install a pip package in the current Jupyter kernel\n",
    "import sys\n",
    "!{sys.executable} -m pip install \"tensorflow>=1.7\"\n",
    "!{sys.executable} -m pip install tensorflow-hub\n",
    "!{sys.executable} -m pip install seaborn\n",
    "\"\"\""
   ]
  },
  {
   "cell_type": "code",
   "execution_count": 2,
   "metadata": {},
   "outputs": [
    {
     "name": "stderr",
     "output_type": "stream",
     "text": [
      "WARNING: Logging before flag parsing goes to stderr.\n",
      "W0605 15:05:38.357878 139680429393664 __init__.py:56] Some hub symbols are not available because TensorFlow version is less than 1.14\n"
     ]
    }
   ],
   "source": [
    "import pandas as pd\n",
    "import tensorflow as tf\n",
    "import tensorflow_hub as hub\n",
    "import matplotlib.pyplot as plt\n",
    "import numpy as np\n",
    "import os\n",
    "import pandas as pd\n",
    "import re\n",
    "import seaborn as sns\n",
    "import random\n",
    "\n",
    "from IPython.display import display, Markdown\n"
   ]
  },
  {
   "cell_type": "code",
   "execution_count": 3,
   "metadata": {},
   "outputs": [],
   "source": [
    "feedback = pd.read_csv(\"for_gensim.csv\", encoding = \"latin-1\", na_values=[])\n",
    "feedback.head(5)\n",
    "\n",
    "text = feedback[\"Improve\"][0:1000].tolist()\n",
    "\n",
    "# print(text)"
   ]
  },
  {
   "cell_type": "code",
   "execution_count": 4,
   "metadata": {},
   "outputs": [
    {
     "name": "stdout",
     "output_type": "stream",
     "text": [
      "WARNING:tensorflow:From /home/chris/anaconda3/lib/python3.7/site-packages/tensorflow/python/ops/control_flow_ops.py:3632: colocate_with (from tensorflow.python.framework.ops) is deprecated and will be removed in a future version.\n",
      "Instructions for updating:\n",
      "Colocations handled automatically by placer.\n"
     ]
    },
    {
     "name": "stderr",
     "output_type": "stream",
     "text": [
      "W0605 15:05:40.788911 139680429393664 deprecation.py:323] From /home/chris/anaconda3/lib/python3.7/site-packages/tensorflow/python/ops/control_flow_ops.py:3632: colocate_with (from tensorflow.python.framework.ops) is deprecated and will be removed in a future version.\n",
      "Instructions for updating:\n",
      "Colocations handled automatically by placer.\n"
     ]
    },
    {
     "data": {
      "text/plain": [
       "'\\n  for i, message_embedding in enumerate(np.array(message_embeddings).tolist()):\\n    print(\"Message: {}\".format(text[i]))\\n    print(\"Embedding size: {}\".format(len(message_embedding)))\\n    message_embedding_snippet = \", \".join(\\n        (str(x) for x in message_embedding[:3]))\\n    print(\"Embedding: [{}, ...]\\n\".format(message_embedding_snippet))\\n'"
      ]
     },
     "execution_count": 4,
     "metadata": {},
     "output_type": "execute_result"
    }
   ],
   "source": [
    "module_url = \"https://tfhub.dev/google/universal-sentence-encoder/2\" #@param [\"https://tfhub.dev/google/universal-sentence-encoder/2\", \"https://tfhub.dev/google/universal-sentence-encoder-large/3\"]\n",
    "\n",
    "# Import the Universal Sentence Encoder's TF Hub module\n",
    "embed = hub.Module(module_url)\n",
    "\n",
    "# Reduce logging output.\n",
    "tf.logging.set_verbosity(tf.logging.ERROR)\n",
    "\n",
    "with tf.Session() as session:\n",
    "  session.run([tf.global_variables_initializer(), tf.tables_initializer()])\n",
    "  message_embeddings = session.run(embed(text))\n",
    "    \n",
    "\"\"\"\n",
    "  for i, message_embedding in enumerate(np.array(message_embeddings).tolist()):\n",
    "    print(\"Message: {}\".format(text[i]))\n",
    "    print(\"Embedding size: {}\".format(len(message_embedding)))\n",
    "    message_embedding_snippet = \", \".join(\n",
    "        (str(x) for x in message_embedding[:3]))\n",
    "    print(\"Embedding: [{}, ...]\\n\".format(message_embedding_snippet))\n",
    "\"\"\""
   ]
  },
  {
   "cell_type": "code",
   "execution_count": 5,
   "metadata": {},
   "outputs": [],
   "source": [
    "# this is an array of the embeddings, each is 512 long\n",
    "\n",
    "text_array = np.array(message_embeddings).tolist()\n",
    "\n",
    "# this is the text-  text\n",
    "\n",
    "# dataframe\n",
    "\n",
    "embed_frame = pd.DataFrame(\n",
    "    {'text': text,\n",
    "     'embedding': text_array\n",
    "    })\n",
    "\n"
   ]
  },
  {
   "cell_type": "code",
   "execution_count": 6,
   "metadata": {},
   "outputs": [],
   "source": [
    "def return_three_similar(value):\n",
    "    to_sort = embed_frame[\"embedding\"].apply(lambda i: np.inner(value, i))\n",
    "    to_sort = (-to_sort).argsort()[1:3]\n",
    "    return(to_sort)\n",
    "\n",
    "test = list(return_three_similar(embed_frame[\"embedding\"][0]))\n",
    "\n",
    "embed_frame[\"similarity\"] = embed_frame[\"embedding\"].apply(lambda x: list(return_three_similar(x)))\n",
    "\n",
    "# embed_frame.similarity"
   ]
  },
  {
   "cell_type": "code",
   "execution_count": 7,
   "metadata": {},
   "outputs": [
    {
     "data": {
      "text/plain": [
       "'\\n\\nI think I might just make one that works on the page, instead\\n\\nf = open(\"test_similarity.html\", \"a\")\\n\\npd.set_option(\"display.max_colwidth\", 10000)\\n\\nfor counter, value in enumerate(embed_frame[\"text\"]):\\n    f.write(\"<p>Review to be compared: \")\\n    f.write(value)\\n    f.write(\"</p>\")\\n    f.write(\"<p>Most similar: \")\\n    f.write(embed_frame.text[embed_frame.similarity[counter][0]])#.to_string())\\n    f.write(\"</p>\")\\n    f.write(\"<p>Second most similar: \")\\n    f.write(embed_frame.text[embed_frame.similarity[counter][1]])#.to_string())\\n    f.write(\"</p>\")\\n\\nf.close()\\n\\npd.set_option(\"display.max_colwidth\", 50)\\n\\n'"
      ]
     },
     "execution_count": 7,
     "metadata": {},
     "output_type": "execute_result"
    }
   ],
   "source": [
    "\"\"\"\n",
    "\n",
    "I think I might just make one that works on the page, instead\n",
    "\n",
    "f = open(\"test_similarity.html\", \"a\")\n",
    "\n",
    "pd.set_option(\"display.max_colwidth\", 10000)\n",
    "\n",
    "for counter, value in enumerate(embed_frame[\"text\"]):\n",
    "    f.write(\"<p>Review to be compared: \")\n",
    "    f.write(value)\n",
    "    f.write(\"</p>\")\n",
    "    f.write(\"<p>Most similar: \")\n",
    "    f.write(embed_frame.text[embed_frame.similarity[counter][0]])#.to_string())\n",
    "    f.write(\"</p>\")\n",
    "    f.write(\"<p>Second most similar: \")\n",
    "    f.write(embed_frame.text[embed_frame.similarity[counter][1]])#.to_string())\n",
    "    f.write(\"</p>\")\n",
    "\n",
    "f.close()\n",
    "\n",
    "pd.set_option(\"display.max_colwidth\", 50)\n",
    "\n",
    "\"\"\"\n"
   ]
  },
  {
   "cell_type": "code",
   "execution_count": 10,
   "metadata": {},
   "outputs": [
    {
     "data": {
      "text/markdown": [
       "<p>Review to be compared: "
      ],
      "text/plain": [
       "<IPython.core.display.Markdown object>"
      ]
     },
     "metadata": {},
     "output_type": "display_data"
    },
    {
     "data": {
      "text/markdown": [
       "help with moving house and help with moving furniture tv mobile phone etc"
      ],
      "text/plain": [
       "<IPython.core.display.Markdown object>"
      ]
     },
     "metadata": {},
     "output_type": "display_data"
    },
    {
     "data": {
      "text/markdown": [
       "</p>"
      ],
      "text/plain": [
       "<IPython.core.display.Markdown object>"
      ]
     },
     "metadata": {},
     "output_type": "display_data"
    },
    {
     "data": {
      "text/markdown": [
       "<p>Most similar: "
      ],
      "text/plain": [
       "<IPython.core.display.Markdown object>"
      ]
     },
     "metadata": {},
     "output_type": "display_data"
    },
    {
     "data": {
      "text/markdown": [
       "have a tv in bedroom have somewhere to play cards dominoes"
      ],
      "text/plain": [
       "<IPython.core.display.Markdown object>"
      ]
     },
     "metadata": {},
     "output_type": "display_data"
    },
    {
     "data": {
      "text/markdown": [
       "</p>"
      ],
      "text/plain": [
       "<IPython.core.display.Markdown object>"
      ]
     },
     "metadata": {},
     "output_type": "display_data"
    },
    {
     "data": {
      "text/markdown": [
       "<p>Second most similar: "
      ],
      "text/plain": [
       "<IPython.core.display.Markdown object>"
      ]
     },
     "metadata": {},
     "output_type": "display_data"
    },
    {
     "data": {
      "text/markdown": [
       "rooms to be made more homely home from home atmosphere"
      ],
      "text/plain": [
       "<IPython.core.display.Markdown object>"
      ]
     },
     "metadata": {},
     "output_type": "display_data"
    },
    {
     "data": {
      "text/markdown": [
       "</p>"
      ],
      "text/plain": [
       "<IPython.core.display.Markdown object>"
      ]
     },
     "metadata": {},
     "output_type": "display_data"
    }
   ],
   "source": [
    "row = random.randint(1, embed_frame.shape[0])\n",
    "\n",
    "display(Markdown(\"<p>Review to be compared: \"))\n",
    "display(Markdown(embed_frame.text[row]))\n",
    "display(Markdown(\"</p>\"))\n",
    "display(Markdown(\"<p>Most similar: \"))\n",
    "display(Markdown(embed_frame.text[embed_frame.similarity[row][0]]))\n",
    "display(Markdown(\"</p>\"))\n",
    "display(Markdown(\"<p>Second most similar: \"))\n",
    "display(Markdown(embed_frame.text[embed_frame.similarity[row][1]]))\n",
    "display(Markdown(\"</p>\"))"
   ]
  },
  {
   "cell_type": "code",
   "execution_count": null,
   "metadata": {},
   "outputs": [],
   "source": []
  },
  {
   "cell_type": "code",
   "execution_count": null,
   "metadata": {},
   "outputs": [],
   "source": []
  }
 ],
 "metadata": {
  "kernelspec": {
   "display_name": "Python 3",
   "language": "python",
   "name": "python3"
  },
  "language_info": {
   "codemirror_mode": {
    "name": "ipython",
    "version": 3
   },
   "file_extension": ".py",
   "mimetype": "text/x-python",
   "name": "python",
   "nbconvert_exporter": "python",
   "pygments_lexer": "ipython3",
   "version": "3.7.2"
  }
 },
 "nbformat": 4,
 "nbformat_minor": 2
}
